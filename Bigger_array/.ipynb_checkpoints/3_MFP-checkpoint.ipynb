{
 "cells": [
  {
   "cell_type": "code",
   "execution_count": 3,
   "metadata": {},
   "outputs": [],
   "source": [
    "# Python 3.7\n",
    "\n",
    "# Assumes we're running in a directory like ~/Dropbox/...../GI_code/Array_name/\n",
    "# The source files are in ~/Dropbox/...../GI_code/GI/\n",
    "\n",
    "import sys\n",
    "sys.path.append('../../GI1_v2/')\n",
    "sys.path.append('../../GI1_v2/PLOT/')\n",
    "\n",
    "import matplotlib as mpl\n",
    "import matplotlib.pyplot as plt\n",
    "import numpy as np\n",
    "import green as g\n",
    "import source as s\n",
    "import processing as proc\n",
    "import parameters\n",
    "import time\n",
    "import random\n",
    "from correlation_random import *\n",
    "from correlation_function import *\n",
    "from correlation_field import *\n",
    "from kernels import *\n",
    "from adsrc import *\n",
    "from earthquakes import *\n",
    "\n",
    "# The following are newly added, as compared to Andreas' original code.\n",
    "from correlation_random_ALL import *\n",
    "from beamform import *\n",
    "\n",
    "%matplotlib inline"
   ]
  },
  {
   "cell_type": "code",
   "execution_count": 4,
   "metadata": {},
   "outputs": [],
   "source": [
    "mpl.rcParams['figure.figsize'] = [20, 10]"
   ]
  },
  {
   "cell_type": "code",
   "execution_count": 5,
   "metadata": {},
   "outputs": [
    {
     "data": {
      "image/png": "[encoded data removed]",
      "text/plain": [
       "<Figure size 1440x720 with 2 Axes>"
      ]
     },
     "metadata": {},
     "output_type": "display_data"
    }
   ],
   "source": [
    "# Check the station and noise-source geometry\n",
    "S,indeces=s.space_distribution(plot=1)"
   ]
  },
  {
   "cell_type": "code",
   "execution_count": 6,
   "metadata": {},
   "outputs": [
    {
     "name": "stderr",
     "output_type": "stream",
     "text": [
      "../../GI1_v2/source.py:484: RuntimeWarning: divide by zero encountered in true_divide\n",
      "  T=1.0/f\n"
     ]
    },
    {
     "name": "stdout",
     "output_type": "stream",
     "text": [
      "number of samples: 16384\n",
      "maximum time: 14.899999999999892 s\n",
      "maximum frequency: 9.9993896484375 Hz\n",
      "elapsed time: 59.592506885528564 s\n",
      "Size of ut: (nsamples, nwindows, nstations)=(16384, 1, 11)\n"
     ]
    }
   ],
   "source": [
    "ut,traw,cct,t,ccf,f = correlation_random_ALL(verbose=True,plot=False,save=False)\n",
    "print(\"Size of ut: (nsamples, nwindows, nstations)={0}\".format(np.shape(ut)))"
   ]
  },
  {
   "cell_type": "code",
   "execution_count": null,
   "metadata": {},
   "outputs": [
    {
     "name": "stdout",
     "output_type": "stream",
     "text": [
      "starting gridpoints: 22500\n",
      "1000\n"
     ]
    }
   ],
   "source": [
    "#MFP!\n",
    "\n",
    "plot=True \n",
    "\n",
    "# Time domain shifts. This is rather slow...\n",
    "# Probably because I'm using the fancy fft-domain specshift\n",
    "#  which is over-engineered for this purpose\n",
    "\n",
    "#- Input parameters.\n",
    "p=parameters.Parameters()\n",
    "xx = p.x/1000\n",
    "yy = p.y/1000\n",
    "\n",
    "# Have to assume a velocity! \n",
    "rvel=3.0       \n",
    "\n",
    "# ONLY work on the first time window. \n",
    "# TODO - work on more windows? average results?\n",
    "iwin=0\n",
    "data=ut[:,iwin,:]\n",
    "\n",
    "#- Spatial grid.\n",
    "downsample=1\n",
    "x_line=np.arange(p.xmin*1.5,p.xmax*1.5,p.dx*downsample)/1000.0\n",
    "y_line=np.arange(p.ymin*1.5,p.ymax*1.5,p.dy*downsample)/1000.0\n",
    "x,y=np.meshgrid(x_line,y_line)\n",
    "\n",
    "\n",
    "# We know where the source actually is:\n",
    "x0=0.75*p.xmax\n",
    "y0=0.75*p.ymax\n",
    "ix0=(np.abs(x_line*1000.0-x0)).argmin()\n",
    "iy0=(np.abs(y_line*1000.0-y0)).argmin()\n",
    "\n",
    "\n",
    "P=np.zeros([np.size(x_line),np.size(y_line)],dtype=complex)\n",
    "\n",
    "print(\"starting gridpoints: {0}\".format(np.size(x_line)*np.size(y_line)))\n",
    "counter_grid=0\n",
    "for idx in range(len(x_line)):\n",
    "        for idy in range(len(y_line)):\n",
    "            counter_grid+=1\n",
    "            if(counter_grid % 1000 == 0):\n",
    "                print(counter_grid)\n",
    "                 \n",
    "            distances = np.sqrt( (xx-x_line[idx])**2 + (yy-y_line[idy])**2 )\n",
    "            timeshifts = distances / rvel\n",
    "            \n",
    "            dshift = specshift(data,timeshifts/p.dt)\n",
    "            #A = np.corrcoef(dshift.T)\n",
    "            A = np.cov(dshift.T)\n",
    "            np.fill_diagonal(A,0) # Exclude autocorrelations\n",
    "            P[idx,idy] = np.sum( A )\n",
    "\n",
    "            if(plot):\n",
    "                if(idx==ix0 and idy==iy0): # Only the slowness pixel that we care about\n",
    "\n",
    "                    plt.figure(figsize=(10,5))\n",
    "                    plt.plot(traw,data,'--')\n",
    "                    ax=plt.gca()\n",
    "                    ax.set_xlim([50,80])\n",
    "                    plt.legend(['0','1','2'])\n",
    "                    plt.title('Unshifted')\n",
    "                    plt.show()                \n",
    "\n",
    "                    plt.figure(figsize=(10,5))\n",
    "                    plt.plot(traw,dshift)\n",
    "                    ax=plt.gca()\n",
    "                    ax.set_xlim([50,80])\n",
    "                    plt.title('Properly Shifted')\n",
    "                    plt.show()"
   ]
  },
  {
   "cell_type": "code",
   "execution_count": null,
   "metadata": {},
   "outputs": [],
   "source": [
    "mpl.rc('font', **{'size':20})\n",
    "\n",
    "def plot_P(P,title=\"MFP\",save=0,savename='none',cmax=0):\n",
    "    fig = plt.figure(figsize=(15,15))\n",
    "    ax = fig.add_axes([0.1,0.1,0.6,0.6])\n",
    "    cmap = plt.get_cmap('RdBu')\n",
    "    i = plt.pcolor(x_line,y_line,np.real(P.T),cmap='RdBu',rasterized=True)#,vmin=-4,vmax=4)\n",
    "    if(cmax==0):\n",
    "        cmax=np.max(np.real(P))\n",
    "    plt.clim(-cmax,cmax)\n",
    "    plt.xlabel('Distance [km]')\n",
    "    plt.ylabel('Distance [km]')\n",
    "    plt.plot(x0/1000.0,y0/1000.0,'r*')\n",
    "    plt.plot(xx,yy,'k^')\n",
    "    plt.title(title)\n",
    "    plt.axis('equal')\n",
    "\n",
    "    colorbar_ax = fig.add_axes([0.75, 0.1, 0.03, 0.6])\n",
    "    fig.colorbar(i, cax=colorbar_ax)\n",
    "\n",
    "    if(save==1):\n",
    "        plt.savefig(savename, bbox_inches='tight')\n",
    "    plt.show()\n",
    "\n",
    "plot_P(P,title=\"MFP - standard\",save=1,savename=\"3_MFP.pdf\")\n",
    "\n",
    "# TODO, pixels are represented in llcorner, shift?\n",
    "\n",
    "\n"
   ]
  },
  {
   "cell_type": "code",
   "execution_count": null,
   "metadata": {},
   "outputs": [],
   "source": []
  },
  {
   "cell_type": "code",
   "execution_count": null,
   "metadata": {},
   "outputs": [],
   "source": []
  }
 ],
 "metadata": {
  "kernelspec": {
   "display_name": "Python 3",
   "language": "python",
   "name": "python3"
  },
  "language_info": {
   "codemirror_mode": {
    "name": "ipython",
    "version": 3
   },
   "file_extension": ".py",
   "mimetype": "text/x-python",
   "name": "python",
   "nbconvert_exporter": "python",
   "pygments_lexer": "ipython3",
   "version": "3.6.7"
  }
 },
 "nbformat": 4,
 "nbformat_minor": 2
}
