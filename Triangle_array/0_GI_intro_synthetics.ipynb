{
 "cells": [
  {
   "cell_type": "markdown",
   "metadata": {},
   "source": [
    "## Introduction"
   ]
  },
  {
   "cell_type": "markdown",
   "metadata": {},
   "source": [
    "### This notebook generates synthetic seismograms and noise-correlation functions using the Generalized Interferometry scripts. This also serves as a brief \"tour\" of the package, but see the original code for a complete description: https://cos.ethz.ch/software/research/gi.html\n",
    "\n",
    "\n",
    "### This can be skipped if pre-computed data have been downloaded"
   ]
  },
  {
   "cell_type": "code",
   "execution_count": null,
   "metadata": {},
   "outputs": [],
   "source": [
    "# Python 3.7\n",
    "\n",
    "import sys\n",
    "sys.path.append('../GI1_v0.2.1')\n",
    "sys.path.append('../GI1_v0.2.1/PLOT/')\n",
    "sys.path.append('../GI1_additions')\n",
    "\n",
    "\n",
    "import matplotlib as mpl\n",
    "import matplotlib.pyplot as plt\n",
    "import numpy as np\n",
    "import green as g\n",
    "import source as s\n",
    "import processing as proc\n",
    "import parameters\n",
    "import time\n",
    "import random\n",
    "from correlation_random import *\n",
    "from correlation_function import *\n",
    "from correlation_field import *\n",
    "from kernels import *\n",
    "from adsrc import *\n",
    "from earthquakes import *\n",
    "\n",
    "# The following are newly added, as compared to the original GI code.\n",
    "from generate_random_signals import *\n",
    "from specshift import *\n",
    "\n",
    "%matplotlib inline"
   ]
  },
  {
   "cell_type": "code",
   "execution_count": null,
   "metadata": {},
   "outputs": [],
   "source": [
    "mpl.rcParams['figure.figsize'] = [20, 10]"
   ]
  },
  {
   "cell_type": "code",
   "execution_count": null,
   "metadata": {},
   "outputs": [],
   "source": [
    "# First we look at our distribution of stations, defined in \"./INPUT/receivers.txt\"\n",
    "#\n",
    "# And also the noise sources, defined in \"./INPUT/setup.txt\"\n",
    "# This can be set to type=gauss, homogeneous, random, etc., \n",
    "#  each of which is hardcoded into source.py\n",
    "\n",
    "S,indeces=s.space_distribution(plot=True)\n",
    "\n",
    "# Setting \"./INPUT/earthquake_catalogue.txt\": Neq=0\n",
    "# This would superimpose an earthquake signal ontop of the noise\n",
    "# The command \"earthquakes()\" would show this distribution\n",
    "\n",
    "# The spatial grid resolution can be adjusted in \"./INPUT/setup.txt\"\n",
    "# The frequency range can be adjusted in \"./INPUT/correlation_field_and_kernels.txt\", \n",
    "#  but then be sure to also adjust the bandpass filter in \"./INPUT/processing.txt\"\n",
    "\n",
    "# Note, space_distribution() and earthquakes() are both called later by other functions.\n",
    "# We're just looking at them here for visualisation purposes."
   ]
  },
  {
   "cell_type": "code",
   "execution_count": null,
   "metadata": {},
   "outputs": [],
   "source": [
    "# In addition to the built in plotting function above, we can make a quick custom plot of the station distribution\n",
    "\n",
    "p=parameters.Parameters()\n",
    "\n",
    "mpl.rc('font', **{'size':20})\n",
    "fig = plt.figure(figsize=(15,15))\n",
    "\n",
    "font = {'color'  : 'darkred', 'weight' : 'normal', 'size'   : 14,}\n",
    "for k in range(p.Nreceivers):\n",
    "    plt.plot(p.x[k],p.y[k],'ro')\n",
    "    plt.text(p.x[k]+0.2*p.dx,p.y[k],str(k),fontdict=font)\n",
    "    print(np.sqrt(p.x[k]**2+p.y[k]**2))\n",
    "    \n",
    "plt.axis('image')\n",
    "plt.axis('equal')\n",
    "plt.xlim((np.min(p.x)-1000,np.max(p.x)+1000))\n",
    "plt.ylim((np.min(p.y)-1000,np.max(p.y)+1000))\n",
    "plt.xlabel('x [m]')\n",
    "plt.ylabel('y [m]')\n",
    "\n",
    "# plt.plot([np.min(x), np.max(x)],[0,0],'k')\n",
    "# plt.plot([0,0],[np.min(y), np.max(y)],'k')\n",
    "plt.title('source-receiver configuration')\n",
    "#plt.colorbar()\n",
    "plt.show()\n",
    "\n"
   ]
  },
  {
   "cell_type": "code",
   "execution_count": null,
   "metadata": {
    "scrolled": false
   },
   "outputs": [],
   "source": [
    "# The following will generate noise traces at each station, potentially many windows / realizations\n",
    "#  and then cross-correlate in the standard way.\n",
    "# (\"./INPUT/ensemble_correlations.txt\")\n",
    "\n",
    "# This works by analytically defining the frequency-domain Green's function from each noise source \n",
    "#  to receiver, then filling with a vector of random phases to represent a given realization\n",
    "# \n",
    "\n",
    "cct,cct_proc,t,ccf,ccf_proc,f=correlation_random(rec0=0,rec1=1,verbose=True,plot=True,save=False)\n",
    "\n",
    "# cct will have dimensions( length(t), number_of_windows )\n",
    "\n",
    "plt.plot(t,cct)\n",
    "plt.plot(t,np.mean(cct,1),linestyle='--',color='k')\n",
    "plt.xlabel('t [s]')\n",
    "plt.title('All windows / realisations')\n",
    "plt.show()"
   ]
  },
  {
   "cell_type": "code",
   "execution_count": null,
   "metadata": {},
   "outputs": [],
   "source": [
    "# This command will compute the correlation wavefield directly, adjoint style.\n",
    "#\n",
    "# This creates the noise-correlation function without the need for multiple realisations.\n",
    "# Ideally, it would match the \"traditional\" noise correlations, if enough averaging was performed.\n",
    "\n",
    "cct,t,ccf,f = correlation_function(rec0=0,rec1=1,effective=0,plot=1,save=0)\n",
    "\n",
    "# Grey lines in the final correlation function plot indicate where the Green's function arrival should be\n",
    "#  if noise sources were perfectly distributed\n"
   ]
  },
  {
   "cell_type": "code",
   "execution_count": null,
   "metadata": {},
   "outputs": [],
   "source": [
    "# Now loop through and calculate observed NCF's all the station-station pairs,\n",
    "#  saving them for later.\n",
    "\n",
    "# We could loop through each station-station pair, calling \"correlation_random(...,save=1)\"\n",
    "# But the following is a bit faster (generates the wavefield once, for all stations, then correlates)\n",
    "ut,traw,cct,t,ccf,f = generate_random_signals(verbose=True,plot=True,save=True,return_cc=True)\n",
    "\n",
    "#ut and traw are for the raw time-domain traces. We'll use that later in beamforming."
   ]
  },
  {
   "cell_type": "code",
   "execution_count": null,
   "metadata": {},
   "outputs": [],
   "source": [
    "# Explore some other tools in the code.\n",
    "# These are used in other notebooks, but included here for completeness.\n",
    "\n",
    "# One source kernel\n",
    "cct,t,ccf,f = correlation_function(rec0=0,rec1=1,effective=0,plot=0)\n",
    "x,y,K_kappa = source_kernel(cct, t, rec0=0, rec1=1, measurement='amp', effective=0, plot=1)\n",
    "# measurement can be either 'amp' or 'cctime'. This changes the misfit to be used."
   ]
  },
  {
   "cell_type": "code",
   "execution_count": null,
   "metadata": {},
   "outputs": [],
   "source": []
  },
  {
   "cell_type": "code",
   "execution_count": null,
   "metadata": {},
   "outputs": [],
   "source": []
  }
 ],
 "metadata": {
  "kernelspec": {
   "display_name": "Python 3",
   "language": "python",
   "name": "python3"
  },
  "language_info": {
   "codemirror_mode": {
    "name": "ipython",
    "version": 3
   },
   "file_extension": ".py",
   "mimetype": "text/x-python",
   "name": "python",
   "nbconvert_exporter": "python",
   "pygments_lexer": "ipython3",
   "version": "3.7.8"
  }
 },
 "nbformat": 4,
 "nbformat_minor": 2
}
